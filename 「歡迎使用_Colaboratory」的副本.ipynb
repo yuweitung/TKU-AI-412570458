{
  "cells": [
    {
      "cell_type": "markdown",
      "metadata": {
        "id": "view-in-github",
        "colab_type": "text"
      },
      "source": [
        "<a href=\"https://colab.research.google.com/github/yuweitung/TKU-AI-412570458/blob/main/%E3%80%8C%E6%AD%A1%E8%BF%8E%E4%BD%BF%E7%94%A8_Colaboratory%E3%80%8D%E7%9A%84%E5%89%AF%E6%9C%AC.ipynb\" target=\"_parent\"><img src=\"https://colab.research.google.com/assets/colab-badge.svg\" alt=\"Open In Colab\"/></a>"
      ]
    },
    {
      "cell_type": "code",
      "source": [
        "a=int(input('請輸入國文成績:'))"
      ],
      "metadata": {
        "id": "rboL8CzGa_zc",
        "outputId": "106777e8-8055-420d-b599-024f8a34a8e7",
        "colab": {
          "base_uri": "https://localhost:8080/"
        }
      },
      "execution_count": null,
      "outputs": [
        {
          "name": "stdout",
          "output_type": "stream",
          "text": [
            "請輸入國文成績:60\n"
          ]
        }
      ]
    },
    {
      "cell_type": "code",
      "source": [
        "b=int(input('請輸入數學成績:'))"
      ],
      "metadata": {
        "id": "8Lbtb3XadPqR",
        "outputId": "cf36365e-d821-4ab9-b7a6-91e932a6a8e1",
        "colab": {
          "base_uri": "https://localhost:8080/"
        }
      },
      "execution_count": null,
      "outputs": [
        {
          "name": "stdout",
          "output_type": "stream",
          "text": [
            "請輸入數學成績:60\n"
          ]
        }
      ]
    },
    {
      "cell_type": "code",
      "source": [
        "c=int(input('請輸入英文成績:'))"
      ],
      "metadata": {
        "id": "v5pXZ05wdjH5",
        "outputId": "937c0598-5a89-4296-a98e-6b86bda8a3a6",
        "colab": {
          "base_uri": "https://localhost:8080/"
        }
      },
      "execution_count": null,
      "outputs": [
        {
          "name": "stdout",
          "output_type": "stream",
          "text": [
            "請輸入英文成績:60\n"
          ]
        }
      ]
    },
    {
      "cell_type": "code",
      "source": [
        "print('您的總分為:')"
      ],
      "metadata": {
        "id": "VDN1FwhKdrXs",
        "outputId": "f45a8856-eda9-494f-9770-8a8045a32dff",
        "colab": {
          "base_uri": "https://localhost:8080/"
        }
      },
      "execution_count": null,
      "outputs": [
        {
          "output_type": "stream",
          "name": "stdout",
          "text": [
            "您的總分為:\n"
          ]
        }
      ]
    },
    {
      "cell_type": "code",
      "source": [
        "print(a+b+c)"
      ],
      "metadata": {
        "id": "zunX8d5_dwvs",
        "outputId": "6fbd57a0-440a-4fce-8bf7-6110fc08971f",
        "colab": {
          "base_uri": "https://localhost:8080/"
        }
      },
      "execution_count": null,
      "outputs": [
        {
          "output_type": "stream",
          "name": "stdout",
          "text": [
            "180\n"
          ]
        }
      ]
    },
    {
      "cell_type": "code",
      "source": [
        "上底=int(input('請輸入梯形上底:'))"
      ],
      "metadata": {
        "id": "O8fxIR3TeGMr",
        "outputId": "3ef9460f-5a3d-4211-e3eb-de7c1edc6375",
        "colab": {
          "base_uri": "https://localhost:8080/"
        }
      },
      "execution_count": null,
      "outputs": [
        {
          "name": "stdout",
          "output_type": "stream",
          "text": [
            "請輸入梯形上底:10\n"
          ]
        }
      ]
    },
    {
      "cell_type": "code",
      "source": [
        "下底=int(input('請輸入梯形下底:'))"
      ],
      "metadata": {
        "id": "-ygNyljfeIoD",
        "outputId": "8992dc2f-270b-4781-ad24-a80bd73ab3cf",
        "colab": {
          "base_uri": "https://localhost:8080/"
        }
      },
      "execution_count": null,
      "outputs": [
        {
          "name": "stdout",
          "output_type": "stream",
          "text": [
            "請輸入梯形下底:15\n"
          ]
        }
      ]
    },
    {
      "cell_type": "code",
      "source": [
        "高=int(input('請輸入梯形高:'))"
      ],
      "metadata": {
        "id": "xyttGceYeXwk",
        "outputId": "34ce0a92-cb88-46cf-fb7b-fbdbb677317a",
        "colab": {
          "base_uri": "https://localhost:8080/"
        }
      },
      "execution_count": null,
      "outputs": [
        {
          "name": "stdout",
          "output_type": "stream",
          "text": [
            "請輸入梯形高:5\n"
          ]
        }
      ]
    },
    {
      "cell_type": "code",
      "source": [
        "面積=(上底+下底)*高/2"
      ],
      "metadata": {
        "id": "KNyrEjhLe403"
      },
      "execution_count": null,
      "outputs": []
    },
    {
      "cell_type": "code",
      "source": [
        "print(面積)"
      ],
      "metadata": {
        "id": "ybPs7GfLe_ID",
        "outputId": "ea64ba8d-a62f-4293-8359-c2c597a80b2b",
        "colab": {
          "base_uri": "https://localhost:8080/"
        }
      },
      "execution_count": null,
      "outputs": [
        {
          "output_type": "stream",
          "name": "stdout",
          "text": [
            "62.5\n"
          ]
        }
      ]
    }
  ],
  "metadata": {
    "colab": {
      "toc_visible": true,
      "provenance": [],
      "include_colab_link": true
    },
    "kernelspec": {
      "display_name": "Python 3",
      "name": "python3"
    }
  },
  "nbformat": 4,
  "nbformat_minor": 0
}