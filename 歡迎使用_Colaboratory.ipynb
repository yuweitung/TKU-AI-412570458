{
  "cells": [
    {
      "cell_type": "markdown",
      "metadata": {
        "id": "view-in-github",
        "colab_type": "text"
      },
      "source": [
        "<a href=\"https://colab.research.google.com/github/yuweitung/TKU-AI-412570458/blob/main/%E6%AD%A1%E8%BF%8E%E4%BD%BF%E7%94%A8_Colaboratory.ipynb\" target=\"_parent\"><img src=\"https://colab.research.google.com/assets/colab-badge.svg\" alt=\"Open In Colab\"/></a>"
      ]
    },
    {
      "cell_type": "code",
      "source": [
        "temperature  = int(input(\"請輸入你的體溫\"))\n",
        "if temperature >= 37.5:\n",
        "    print(\"體溫高\")\n",
        "elif 37 <= temperature <= 37.4:\n",
        "    print(\"體溫略高\")\n",
        "elif 34 <= temperature <= 36.9:\n",
        "    print(\"體溫正常\")\n",
        "else:\n",
        "    print(\"體溫異常\")"
      ],
      "metadata": {
        "id": "GFMoKzJGzHiR",
        "outputId": "c869e9db-6fd1-4e9e-a510-045fee4d6120",
        "colab": {
          "base_uri": "https://localhost:8080/"
        }
      },
      "execution_count": 2,
      "outputs": [
        {
          "output_type": "stream",
          "name": "stdout",
          "text": [
            "請輸入你的體溫36\n",
            "體溫正常\n"
          ]
        }
      ]
    },
    {
      "cell_type": "code",
      "source": [
        "score = int(input(\"請輸入成績\"))\n",
        "sc=int(score)\n",
        "if(sc>=90):\n",
        "  print(\"A\")\n",
        "elif(80<=sc<=89):\n",
        "  print(\"B\")\n",
        "elif(70<=sc<=79):\n",
        "  print(\"c\")\n",
        "elif(60<=sc<=69):\n",
        "  print(\"D\")\n",
        "else:\n",
        "  print(\"E\")"
      ],
      "metadata": {
        "id": "H3w1diRLzLlP",
        "outputId": "e8855e96-3834-4e1a-ab16-d3df55e13e74",
        "colab": {
          "base_uri": "https://localhost:8080/"
        }
      },
      "execution_count": 3,
      "outputs": [
        {
          "output_type": "stream",
          "name": "stdout",
          "text": [
            "請輸入成績100\n",
            "A\n"
          ]
        }
      ]
    },
    {
      "cell_type": "code",
      "source": [
        "month = int(input(\"請輸入月份\"))\n",
        "if month in [3, 4, 5]:\n",
        "  print(\"春天\")\n",
        "elif month in [6, 7, 8]:\n",
        "  print(\"夏天\")\n",
        "elif month in [9, 10, 11]:\n",
        "  print(\"秋天\")\n",
        "elif month in [12, 1, 2]:\n",
        "  print(\"冬天\")\n",
        "else:\n",
        "  print(\"月份不在範圍內\")"
      ],
      "metadata": {
        "id": "0XJU4Rb-zSVe",
        "outputId": "398bdfa4-4ba2-496d-8f79-172b142260b6",
        "colab": {
          "base_uri": "https://localhost:8080/"
        }
      },
      "execution_count": 4,
      "outputs": [
        {
          "output_type": "stream",
          "name": "stdout",
          "text": [
            "請輸入月份5\n",
            "春天\n"
          ]
        }
      ]
    }
  ],
  "metadata": {
    "colab": {
      "name": "歡迎使用 Colaboratory",
      "toc_visible": true,
      "provenance": [],
      "include_colab_link": true
    },
    "kernelspec": {
      "display_name": "Python 3",
      "name": "python3"
    }
  },
  "nbformat": 4,
  "nbformat_minor": 0
}