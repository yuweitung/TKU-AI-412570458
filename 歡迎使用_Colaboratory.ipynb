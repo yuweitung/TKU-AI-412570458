{
  "cells": [
    {
      "cell_type": "markdown",
      "metadata": {
        "id": "view-in-github",
        "colab_type": "text"
      },
      "source": [
        "<a href=\"https://colab.research.google.com/github/yuweitung/TKU-AI-412570458/blob/main/%E6%AD%A1%E8%BF%8E%E4%BD%BF%E7%94%A8_Colaboratory.ipynb\" target=\"_parent\"><img src=\"https://colab.research.google.com/assets/colab-badge.svg\" alt=\"Open In Colab\"/></a>"
      ]
    },
    {
      "cell_type": "code",
      "source": [
        "n = int(input(\"請輸入一個整數: \"))\n",
        "sum_total = 0\n",
        "for i in range(1, n + 1):\n",
        "    sum_total += i\n",
        "print(f\"1到 {n} 的總和為 {sum_total}\")\n"
      ],
      "metadata": {
        "id": "F3nbtihyN4-Q",
        "outputId": "153c4e79-ec4e-422e-eb62-49e514cf1bf3",
        "colab": {
          "base_uri": "https://localhost:8080/"
        }
      },
      "execution_count": 1,
      "outputs": [
        {
          "output_type": "stream",
          "name": "stdout",
          "text": [
            "請輸入一個整數: 10\n",
            "1到 10 的總和為 55\n"
          ]
        }
      ]
    },
    {
      "cell_type": "code",
      "source": [
        "for i in range(1,10,2):\n",
        "   print(i,end=\",\")"
      ],
      "metadata": {
        "id": "MOCuPLDJOewx",
        "outputId": "c5a87e21-4c16-4ae5-fe00-73405693d44f",
        "colab": {
          "base_uri": "https://localhost:8080/"
        }
      },
      "execution_count": 2,
      "outputs": [
        {
          "output_type": "stream",
          "name": "stdout",
          "text": [
            "1,3,5,7,9,"
          ]
        }
      ]
    },
    {
      "cell_type": "code",
      "source": [
        "for i in range(9):\n",
        "      print(\"happy\")\n"
      ],
      "metadata": {
        "id": "_pyiSIuWOgmR",
        "outputId": "ff9f7516-6114-4d88-c1f1-2cb9b0d2aa67",
        "colab": {
          "base_uri": "https://localhost:8080/"
        }
      },
      "execution_count": 3,
      "outputs": [
        {
          "output_type": "stream",
          "name": "stdout",
          "text": [
            "happy\n",
            "happy\n",
            "happy\n",
            "happy\n",
            "happy\n",
            "happy\n",
            "happy\n",
            "happy\n",
            "happy\n"
          ]
        }
      ]
    }
  ],
  "metadata": {
    "colab": {
      "name": "歡迎使用 Colaboratory",
      "toc_visible": true,
      "provenance": [],
      "include_colab_link": true
    },
    "kernelspec": {
      "display_name": "Python 3",
      "name": "python3"
    }
  },
  "nbformat": 4,
  "nbformat_minor": 0
}