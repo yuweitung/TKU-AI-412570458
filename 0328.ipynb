{
  "cells": [
    {
      "cell_type": "markdown",
      "metadata": {
        "id": "view-in-github",
        "colab_type": "text"
      },
      "source": [
        "<a href=\"https://colab.research.google.com/github/yuweitung/TKU-AI-412570458/blob/main/0328.ipynb\" target=\"_parent\"><img src=\"https://colab.research.google.com/assets/colab-badge.svg\" alt=\"Open In Colab\"/></a>"
      ]
    },
    {
      "cell_type": "code",
      "source": [
        "num=2.999999\n",
        "round_num=round(num,1)\n",
        "print(round_num)"
      ],
      "metadata": {
        "colab": {
          "base_uri": "https://localhost:8080/"
        },
        "id": "-HFlhGqvznAK",
        "outputId": "569b6c96-d358-4907-9a92-ece103c6e15d"
      },
      "execution_count": 1,
      "outputs": [
        {
          "output_type": "stream",
          "name": "stdout",
          "text": [
            "3.0\n"
          ]
        }
      ]
    },
    {
      "cell_type": "code",
      "source": [
        "攝氏=float(input('請輸入攝氏溫度:'))\n",
        "華氏=攝氏*9/5+32\n",
        "print(華氏)"
      ],
      "metadata": {
        "colab": {
          "base_uri": "https://localhost:8080/"
        },
        "id": "YsbRGlkmz4tG",
        "outputId": "39773d76-15c3-4cd2-f280-e73c9d5d54fa"
      },
      "execution_count": 2,
      "outputs": [
        {
          "output_type": "stream",
          "name": "stdout",
          "text": [
            "請輸入攝氏溫度:50\n",
            "122.0\n"
          ]
        }
      ]
    },
    {
      "cell_type": "code",
      "source": [
        "體重=float(input('請輸入您的身高體重(公斤):'))\n",
        "身高公分=float(input('請輸入您的身高(公分)'))\n",
        "BMI=體重/(身高公分/100)**2\n",
        "BMI=round(BMI,2)\n",
        "print(BMI)"
      ],
      "metadata": {
        "colab": {
          "base_uri": "https://localhost:8080/"
        },
        "id": "Ld_5HGZS13W2",
        "outputId": "558e617c-429b-467c-f419-a1a5a1f8ae2c"
      },
      "execution_count": 4,
      "outputs": [
        {
          "output_type": "stream",
          "name": "stdout",
          "text": [
            "請輸入您的身高體重(公斤):60\n",
            "請輸入您的身高(公分)180\n",
            "18.52\n"
          ]
        }
      ]
    },
    {
      "cell_type": "code",
      "source": [
        "總和=sum(range(1,101))\n",
        "print(總和)"
      ],
      "metadata": {
        "colab": {
          "base_uri": "https://localhost:8080/"
        },
        "id": "IBVtmP6A_leI",
        "outputId": "f0aea64a-d299-46b9-f897-809aa53bb72b"
      },
      "execution_count": 5,
      "outputs": [
        {
          "output_type": "stream",
          "name": "stdout",
          "text": [
            "5050\n"
          ]
        }
      ]
    },
    {
      "cell_type": "code",
      "source": [
        "總和1=sum(range(1,51,2))\n",
        "print(總和1)"
      ],
      "metadata": {
        "colab": {
          "base_uri": "https://localhost:8080/"
        },
        "id": "TYXjEbmyAMys",
        "outputId": "9edfd821-5c92-482b-8dd3-b3f614048ceb"
      },
      "execution_count": 7,
      "outputs": [
        {
          "output_type": "stream",
          "name": "stdout",
          "text": [
            "625\n"
          ]
        }
      ]
    }
  ],
  "metadata": {
    "colab": {
      "name": "歡迎使用 Colaboratory",
      "toc_visible": true,
      "provenance": [],
      "include_colab_link": true
    },
    "kernelspec": {
      "display_name": "Python 3",
      "name": "python3"
    }
  },
  "nbformat": 4,
  "nbformat_minor": 0
}